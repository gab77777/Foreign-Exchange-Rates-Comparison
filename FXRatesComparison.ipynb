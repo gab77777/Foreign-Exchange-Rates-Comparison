{
 "cells": [
  {
   "cell_type": "code",
   "execution_count": 2,
   "metadata": {},
   "outputs": [
    {
     "name": "stdout",
     "output_type": "stream",
     "text": [
      "USD currency rates as of 2020-12-31 00:00:00\n",
      "0.8149295085975062 EUR\n",
      "73.06698720560671 INR\n",
      "8.177247168119957 SEK\n",
      "1.2954119468665959 AUD\n",
      "0.8802868551870263 CHF\n"
     ]
    }
   ],
   "source": [
    "#Currency rates to USD - end of 2020\n",
    "from forex_python.converter import CurrencyRates\n",
    "import datetime as dt\n",
    "\n",
    "date = dt.datetime(2020,12,31)\n",
    "c = CurrencyRates()\n",
    "\n",
    "#For only a \"double\" comparison. \n",
    "#print(c.get_rate('USD','EUR',date))\n",
    "\n",
    "countries = ['EUR','INR','SEK','AUD','CHF']\n",
    "\n",
    "print('USD currency rates as of {}'.format(date))\n",
    "for i in countries:\n",
    "    print(c.get_rate('USD',i,date),i)"
   ]
  }
 ],
 "metadata": {
  "kernelspec": {
   "display_name": "Python 3",
   "language": "python",
   "name": "python3"
  },
  "language_info": {
   "codemirror_mode": {
    "name": "ipython",
    "version": 3
   },
   "file_extension": ".py",
   "mimetype": "text/x-python",
   "name": "python",
   "nbconvert_exporter": "python",
   "pygments_lexer": "ipython3",
   "version": "3.8.5"
  }
 },
 "nbformat": 4,
 "nbformat_minor": 4
}
